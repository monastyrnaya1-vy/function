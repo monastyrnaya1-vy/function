{
 "cells": [
  {
   "cell_type": "code",
   "execution_count": 12,
   "metadata": {},
   "outputs": [],
   "source": [
    "documents = [\n",
    "    {'type': 'passport', 'number': '2207 876234', 'name': 'Василий Гупкин'},\n",
    "    {'type': 'invoice', 'number': '11-2', 'name': 'Геннадий Покемонов'},\n",
    "    {'type': 'insurance', 'number': '10006', 'name': 'Аристарх Павлов'}\n",
    "]\n"
   ]
  },
  {
   "cell_type": "code",
   "execution_count": 13,
   "metadata": {},
   "outputs": [],
   "source": [
    "directories = {\n",
    "    '1': ['2207 876234', '11-2'],\n",
    "    '2': ['10006'],\n",
    "    '3': []\n",
    "}\n",
    "\n",
    "       "
   ]
  },
  {
   "cell_type": "code",
   "execution_count": 15,
   "metadata": {},
   "outputs": [
    {
     "name": "stdout",
     "output_type": "stream",
     "text": [
      "Введите команду a\n",
      "Введите номер документа: 5\n",
      "Введите тип документа: 5\n",
      "Введите ФИО владельца: 5\n",
      "Введите номер полки: 5\n",
      "Полки не существует\n"
     ]
    }
   ],
   "source": [
    "comand = input('Введите команду ')\n",
    "\n",
    "if comand == 'p':\n",
    "    num = input('Введите номер документа ')\n",
    "    def p(num): \n",
    "        for i in documents:\n",
    "            if num == i.get('number'):\n",
    "                print(i.get('name'))\n",
    "    print(p(num))\n",
    "    \n",
    "elif comand == 's':\n",
    "    doc = input('Введите номер документа ')\n",
    "    def s(doc):\n",
    "        for i,v in directories.items():\n",
    "            if doc in v:\n",
    "                print(i)\n",
    "            elif doc == '':\n",
    "                print(3)\n",
    "                return\n",
    "    print(s(doc)) \n",
    "elif comand == 'l':    \n",
    "    for i in documents:\n",
    "        print(f'{i.get(\"type\")} \"{i.get(\"number\")}\" \"{i.get(\"name\")}\"')\n",
    "              \n",
    "elif comand == 'as':\n",
    "    shelf = input('Введите номер новой полки: ')\n",
    "    def ass(shelf):\n",
    "        if shelf in directories.keys():\n",
    "            print ('такая полка уже существует')\n",
    "        else:\n",
    "            directories.setdefault(shelf)\n",
    "            print (directories.copy())\n",
    "    print(ass(shelf))\n",
    "              \n",
    "elif comand == 'd':\n",
    "    delete = input('Введите номер документа: ')    \n",
    "    def de(delete):\n",
    "        for i in documents:\n",
    "            if delete in i.values():\n",
    "                del(i['number'])\n",
    "                print(i)\n",
    "            elif comand == 'd':\n",
    "                for i, v in directories.items():\n",
    "                    for el in v:\n",
    "                        el.split(\",\")\n",
    "                        if delete == el:\n",
    "                            v.remove(delete)\n",
    "                            print(v)\n",
    "                            break\n",
    "            elif delete != el:\n",
    "                print('Неверный номер документа')\n",
    "    print(de(delete))\n",
    "              \n",
    "elif comand == 'm':\n",
    "    docs = input('Введите номер документа: ')\n",
    "    shelvs = input('Введите номер новой полки: ')\n",
    "    for k, v in directories.items():\n",
    "        if docs in v and shelvs in directories.keys():\n",
    "            directories[k].remove(docs)\n",
    "            directories[shelvs].append(docs)\n",
    "            print(directories)\n",
    "        elif docs not in v:  \n",
    "            print('Документа не существует')\n",
    "        elif shelvs not in directories.keys():\n",
    "            print('Такой полки не существует')\n",
    "              \n",
    "elif comand == 'a':\n",
    "    doc = input('Введите номер документа: ')\n",
    "    doc_t = input('Введите тип документа: ')\n",
    "    fio = input('Введите ФИО владельца: ')\n",
    "    shelf = input('Введите номер полки: ')\n",
    "    if shelf in directories:\n",
    "        documents.append({'type': doc_t, 'number': doc, 'name': fio})\n",
    "        directories[shelf].append(doc)\n",
    "    else:\n",
    "        print(\"Полки не существует\")\n",
    "            \n",
    "    \n",
    "    \n",
    "\n",
    "\n",
    "            \n",
    "            \n",
    "            \n",
    "\n",
    "\n",
    "    "
   ]
  },
  {
   "cell_type": "code",
   "execution_count": null,
   "metadata": {},
   "outputs": [],
   "source": []
  }
 ],
 "metadata": {
  "kernelspec": {
   "display_name": "Python 3",
   "language": "python",
   "name": "python3"
  },
  "language_info": {
   "codemirror_mode": {
    "name": "ipython",
    "version": 3
   },
   "file_extension": ".py",
   "mimetype": "text/x-python",
   "name": "python",
   "nbconvert_exporter": "python",
   "pygments_lexer": "ipython3",
   "version": "3.7.4"
  }
 },
 "nbformat": 4,
 "nbformat_minor": 2
}
